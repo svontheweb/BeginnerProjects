{
  "nbformat": 4,
  "nbformat_minor": 0,
  "metadata": {
    "colab": {
      "provenance": [],
      "gpuType": "T4",
      "authorship_tag": "ABX9TyNanISul5vhL9OeZ5u7rY1r",
      "include_colab_link": true
    },
    "kernelspec": {
      "name": "python3",
      "display_name": "Python 3"
    },
    "language_info": {
      "name": "python"
    },
    "accelerator": "GPU"
  },
  "cells": [
    {
      "cell_type": "markdown",
      "metadata": {
        "id": "view-in-github",
        "colab_type": "text"
      },
      "source": [
        "<a href=\"https://colab.research.google.com/github/svontheweb/BeginnerProjects/blob/main/convert_pdparam_to_onnx_models_GPU.ipynb\" target=\"_parent\"><img src=\"https://colab.research.google.com/assets/colab-badge.svg\" alt=\"Open In Colab\"/></a>"
      ]
    },
    {
      "cell_type": "markdown",
      "source": [
        "# MODNet-MobileNetV2\n",
        "Models in https://github.com/PaddlePaddle/PaddleSeg/tree/release/2.8/Matting#models\n",
        "\n",
        "\n",
        "Steps can be found at: https://aistudio.baidu.com/projectdetail/5002963?contributionType=1\n",
        "\n"
      ],
      "metadata": {
        "id": "4BSkvfy26oFp"
      }
    },
    {
      "cell_type": "code",
      "source": [
        "!sudo apt-get update\n",
        "!sudo apt-get install python3.8\n"
      ],
      "metadata": {
        "colab": {
          "base_uri": "https://localhost:8080/"
        },
        "id": "Of9C2CNRBPNt",
        "outputId": "160d624b-a9b4-49b0-9b1d-15f5ca596cdb"
      },
      "execution_count": 1,
      "outputs": [
        {
          "output_type": "stream",
          "name": "stdout",
          "text": [
            "\r0% [Working]\r            \rGet:1 https://cloud.r-project.org/bin/linux/ubuntu jammy-cran40/ InRelease [3,626 B]\n",
            "\r0% [Connecting to archive.ubuntu.com (91.189.91.81)] [Connecting to security.ub\r0% [Connecting to archive.ubuntu.com (91.189.91.81)] [Connecting to security.ub\r                                                                               \rGet:2 https://ppa.launchpadcontent.net/c2d4u.team/c2d4u4.0+/ubuntu jammy InRelease [18.1 kB]\n",
            "\r0% [Connecting to archive.ubuntu.com (91.189.91.81)] [Connecting to security.ub\r0% [Connecting to archive.ubuntu.com (91.189.91.81)] [Waiting for headers] [Con\r                                                                               \rHit:3 https://developer.download.nvidia.com/compute/cuda/repos/ubuntu2204/x86_64  InRelease\n",
            "\r0% [Waiting for headers] [Waiting for headers] [Connecting to ppa.launchpadcont\r                                                                               \rHit:4 https://ppa.launchpadcontent.net/deadsnakes/ppa/ubuntu jammy InRelease\n",
            "Get:5 http://security.ubuntu.com/ubuntu jammy-security InRelease [110 kB]\n",
            "Hit:6 https://ppa.launchpadcontent.net/graphics-drivers/ppa/ubuntu jammy InRelease\n",
            "Hit:7 https://ppa.launchpadcontent.net/ubuntugis/ppa/ubuntu jammy InRelease\n",
            "Get:8 https://ppa.launchpadcontent.net/c2d4u.team/c2d4u4.0+/ubuntu jammy/main Sources [2,197 kB]\n",
            "Get:9 https://ppa.launchpadcontent.net/c2d4u.team/c2d4u4.0+/ubuntu jammy/main amd64 Packages [1,127 kB]\n",
            "Get:10 http://security.ubuntu.com/ubuntu jammy-security/main amd64 Packages [966 kB]\n",
            "Get:11 http://security.ubuntu.com/ubuntu jammy-security/universe amd64 Packages [993 kB]\n",
            "Hit:12 http://archive.ubuntu.com/ubuntu jammy InRelease\n",
            "Get:13 http://archive.ubuntu.com/ubuntu jammy-updates InRelease [119 kB]\n",
            "Get:14 http://archive.ubuntu.com/ubuntu jammy-backports InRelease [109 kB]\n",
            "Get:15 http://archive.ubuntu.com/ubuntu jammy-updates/main amd64 Packages [1,235 kB]\n",
            "Get:16 http://archive.ubuntu.com/ubuntu jammy-updates/universe amd64 Packages [1,257 kB]\n",
            "Fetched 8,135 kB in 9s (946 kB/s)\n",
            "Reading package lists... Done\n",
            "Reading package lists... Done\n",
            "Building dependency tree... Done\n",
            "Reading state information... Done\n",
            "The following additional packages will be installed:\n",
            "  libpython3.8-minimal libpython3.8-stdlib mailcap mime-support\n",
            "  python3.8-minimal\n",
            "Suggested packages:\n",
            "  python3.8-venv binfmt-support\n",
            "The following NEW packages will be installed:\n",
            "  libpython3.8-minimal libpython3.8-stdlib mailcap mime-support python3.8\n",
            "  python3.8-minimal\n",
            "0 upgraded, 6 newly installed, 0 to remove and 32 not upgraded.\n",
            "Need to get 5,098 kB of archives.\n",
            "After this operation, 18.9 MB of additional disk space will be used.\n",
            "Get:1 https://ppa.launchpadcontent.net/deadsnakes/ppa/ubuntu jammy/main amd64 libpython3.8-minimal amd64 3.8.18-1+jammy1 [794 kB]\n",
            "Get:2 https://ppa.launchpadcontent.net/deadsnakes/ppa/ubuntu jammy/main amd64 python3.8-minimal amd64 3.8.18-1+jammy1 [2,024 kB]\n",
            "Get:3 http://archive.ubuntu.com/ubuntu jammy/main amd64 mailcap all 3.70+nmu1ubuntu1 [23.8 kB]\n",
            "Get:4 https://ppa.launchpadcontent.net/deadsnakes/ppa/ubuntu jammy/main amd64 libpython3.8-stdlib amd64 3.8.18-1+jammy1 [1,815 kB]\n",
            "Get:5 http://archive.ubuntu.com/ubuntu jammy/main amd64 mime-support all 3.66 [3,696 B]\n",
            "Get:6 https://ppa.launchpadcontent.net/deadsnakes/ppa/ubuntu jammy/main amd64 python3.8 amd64 3.8.18-1+jammy1 [438 kB]\n",
            "Fetched 5,098 kB in 0s (11.1 MB/s)\n",
            "debconf: unable to initialize frontend: Dialog\n",
            "debconf: (No usable dialog-like program is installed, so the dialog based frontend cannot be used. at /usr/share/perl5/Debconf/FrontEnd/Dialog.pm line 78, <> line 6.)\n",
            "debconf: falling back to frontend: Readline\n",
            "debconf: unable to initialize frontend: Readline\n",
            "debconf: (This frontend requires a controlling tty.)\n",
            "debconf: falling back to frontend: Teletype\n",
            "dpkg-preconfigure: unable to re-open stdin: \n",
            "Selecting previously unselected package libpython3.8-minimal:amd64.\n",
            "(Reading database ... 120901 files and directories currently installed.)\n",
            "Preparing to unpack .../0-libpython3.8-minimal_3.8.18-1+jammy1_amd64.deb ...\n",
            "Unpacking libpython3.8-minimal:amd64 (3.8.18-1+jammy1) ...\n",
            "Selecting previously unselected package python3.8-minimal.\n",
            "Preparing to unpack .../1-python3.8-minimal_3.8.18-1+jammy1_amd64.deb ...\n",
            "Unpacking python3.8-minimal (3.8.18-1+jammy1) ...\n",
            "Selecting previously unselected package mailcap.\n",
            "Preparing to unpack .../2-mailcap_3.70+nmu1ubuntu1_all.deb ...\n",
            "Unpacking mailcap (3.70+nmu1ubuntu1) ...\n",
            "Selecting previously unselected package mime-support.\n",
            "Preparing to unpack .../3-mime-support_3.66_all.deb ...\n",
            "Unpacking mime-support (3.66) ...\n",
            "Selecting previously unselected package libpython3.8-stdlib:amd64.\n",
            "Preparing to unpack .../4-libpython3.8-stdlib_3.8.18-1+jammy1_amd64.deb ...\n",
            "Unpacking libpython3.8-stdlib:amd64 (3.8.18-1+jammy1) ...\n",
            "Selecting previously unselected package python3.8.\n",
            "Preparing to unpack .../5-python3.8_3.8.18-1+jammy1_amd64.deb ...\n",
            "Unpacking python3.8 (3.8.18-1+jammy1) ...\n",
            "Setting up libpython3.8-minimal:amd64 (3.8.18-1+jammy1) ...\n",
            "Setting up python3.8-minimal (3.8.18-1+jammy1) ...\n",
            "Setting up mailcap (3.70+nmu1ubuntu1) ...\n",
            "Setting up mime-support (3.66) ...\n",
            "Setting up libpython3.8-stdlib:amd64 (3.8.18-1+jammy1) ...\n",
            "Setting up python3.8 (3.8.18-1+jammy1) ...\n",
            "Processing triggers for man-db (2.10.2-1) ...\n"
          ]
        }
      ]
    },
    {
      "cell_type": "code",
      "source": [
        "!apt-get install python3.8-distutils\n",
        "\n",
        "!apt-get install pip\n",
        "!python3.8 -m pip --version\n",
        "\n",
        "!python3.8 --version"
      ],
      "metadata": {
        "colab": {
          "base_uri": "https://localhost:8080/"
        },
        "id": "F0t9ofMUBut_",
        "outputId": "047e3c87-1015-43f1-de33-8088ebcd295a"
      },
      "execution_count": 2,
      "outputs": [
        {
          "output_type": "stream",
          "name": "stdout",
          "text": [
            "Reading package lists... Done\n",
            "Building dependency tree... Done\n",
            "Reading state information... Done\n",
            "The following additional packages will be installed:\n",
            "  python3.8-lib2to3\n",
            "The following NEW packages will be installed:\n",
            "  python3.8-distutils python3.8-lib2to3\n",
            "0 upgraded, 2 newly installed, 0 to remove and 32 not upgraded.\n",
            "Need to get 319 kB of archives.\n",
            "After this operation, 1,237 kB of additional disk space will be used.\n",
            "Get:1 https://ppa.launchpadcontent.net/deadsnakes/ppa/ubuntu jammy/main amd64 python3.8-lib2to3 all 3.8.18-1+jammy1 [126 kB]\n",
            "Get:2 https://ppa.launchpadcontent.net/deadsnakes/ppa/ubuntu jammy/main amd64 python3.8-distutils all 3.8.18-1+jammy1 [193 kB]\n",
            "Fetched 319 kB in 0s (1,844 kB/s)\n",
            "Selecting previously unselected package python3.8-lib2to3.\n",
            "(Reading database ... 121552 files and directories currently installed.)\n",
            "Preparing to unpack .../python3.8-lib2to3_3.8.18-1+jammy1_all.deb ...\n",
            "Unpacking python3.8-lib2to3 (3.8.18-1+jammy1) ...\n",
            "Selecting previously unselected package python3.8-distutils.\n",
            "Preparing to unpack .../python3.8-distutils_3.8.18-1+jammy1_all.deb ...\n",
            "Unpacking python3.8-distutils (3.8.18-1+jammy1) ...\n",
            "Setting up python3.8-lib2to3 (3.8.18-1+jammy1) ...\n",
            "Setting up python3.8-distutils (3.8.18-1+jammy1) ...\n",
            "Reading package lists... Done\n",
            "Building dependency tree... Done\n",
            "Reading state information... Done\n",
            "Note, selecting 'python3-pip' instead of 'pip'\n",
            "The following additional packages will be installed:\n",
            "  python3-setuptools python3-wheel\n",
            "Suggested packages:\n",
            "  python-setuptools-doc\n",
            "The following NEW packages will be installed:\n",
            "  python3-pip python3-setuptools python3-wheel\n",
            "0 upgraded, 3 newly installed, 0 to remove and 32 not upgraded.\n",
            "Need to get 1,677 kB of archives.\n",
            "After this operation, 8,965 kB of additional disk space will be used.\n",
            "Get:1 http://archive.ubuntu.com/ubuntu jammy-updates/main amd64 python3-setuptools all 59.6.0-1.2ubuntu0.22.04.1 [339 kB]\n",
            "Get:2 http://archive.ubuntu.com/ubuntu jammy-updates/universe amd64 python3-wheel all 0.37.1-2ubuntu0.22.04.1 [32.0 kB]\n",
            "Get:3 http://archive.ubuntu.com/ubuntu jammy-updates/universe amd64 python3-pip all 22.0.2+dfsg-1ubuntu0.3 [1,305 kB]\n",
            "Fetched 1,677 kB in 1s (1,939 kB/s)\n",
            "Selecting previously unselected package python3-setuptools.\n",
            "(Reading database ... 121691 files and directories currently installed.)\n",
            "Preparing to unpack .../python3-setuptools_59.6.0-1.2ubuntu0.22.04.1_all.deb ...\n",
            "Unpacking python3-setuptools (59.6.0-1.2ubuntu0.22.04.1) ...\n",
            "Selecting previously unselected package python3-wheel.\n",
            "Preparing to unpack .../python3-wheel_0.37.1-2ubuntu0.22.04.1_all.deb ...\n",
            "Unpacking python3-wheel (0.37.1-2ubuntu0.22.04.1) ...\n",
            "Selecting previously unselected package python3-pip.\n",
            "Preparing to unpack .../python3-pip_22.0.2+dfsg-1ubuntu0.3_all.deb ...\n",
            "Unpacking python3-pip (22.0.2+dfsg-1ubuntu0.3) ...\n",
            "Setting up python3-setuptools (59.6.0-1.2ubuntu0.22.04.1) ...\n",
            "Setting up python3-wheel (0.37.1-2ubuntu0.22.04.1) ...\n",
            "Setting up python3-pip (22.0.2+dfsg-1ubuntu0.3) ...\n",
            "Processing triggers for man-db (2.10.2-1) ...\n",
            "pip 22.0.2 from /usr/lib/python3/dist-packages/pip (python 3.8)\n",
            "Python 3.8.18\n"
          ]
        }
      ]
    },
    {
      "cell_type": "code",
      "execution_count": 33,
      "metadata": {
        "colab": {
          "base_uri": "https://localhost:8080/"
        },
        "id": "7NE-CY8kDizj",
        "outputId": "feb25c46-b062-41f1-f68b-5ff69f544695"
      },
      "outputs": [
        {
          "output_type": "stream",
          "name": "stdout",
          "text": [
            "Looking in indexes: https://pypi.tuna.tsinghua.edu.cn/simple\n",
            "Collecting paddlepaddle-gpu==2.5.1\n",
            "  Using cached https://pypi.tuna.tsinghua.edu.cn/packages/29/ff/a5dd8bc1b0dd8aa1b8598611cdbed637b960b87541d2522dd311887868e4/paddlepaddle_gpu-2.5.1-cp38-cp38-manylinux1_x86_64.whl (541.0 MB)\n",
            "Requirement already satisfied: numpy>=1.13 in /usr/local/lib/python3.8/dist-packages (from paddlepaddle-gpu==2.5.1) (1.24.4)\n",
            "Collecting httpx\n",
            "  Using cached https://pypi.tuna.tsinghua.edu.cn/packages/33/0d/d9ce469af019741c8999711d36b270ff992ceb1a0293f73f9f34fdf131e9/httpx-0.25.0-py3-none-any.whl (75 kB)\n",
            "Requirement already satisfied: Pillow in /usr/local/lib/python3.8/dist-packages (from paddlepaddle-gpu==2.5.1) (10.0.1)\n",
            "Collecting paddle-bfloat==0.1.7\n",
            "  Downloading https://pypi.tuna.tsinghua.edu.cn/packages/76/d7/ba0e1aeec33e20c78af5cf2fdbb7e7cabfe4679557e68759a17c97e03540/paddle_bfloat-0.1.7-cp38-cp38-manylinux_2_17_x86_64.manylinux2014_x86_64.whl (385 kB)\n",
            "\u001b[2K     \u001b[90m━━━━━━━━━━━━━━━━━━━━━━━━━━━━━━━━━━━━━\u001b[0m \u001b[32m385.5/385.5 KB\u001b[0m \u001b[31m486.6 kB/s\u001b[0m eta \u001b[36m0:00:00\u001b[0m\n",
            "\u001b[?25hCollecting opt-einsum==3.3.0\n",
            "  Using cached https://pypi.tuna.tsinghua.edu.cn/packages/bc/19/404708a7e54ad2798907210462fd950c3442ea51acc8790f3da48d2bee8b/opt_einsum-3.3.0-py3-none-any.whl (65 kB)\n",
            "Collecting decorator\n",
            "  Using cached https://pypi.tuna.tsinghua.edu.cn/packages/d5/50/83c593b07763e1161326b3b8c6686f0f4b0f24d5526546bee538c89837d6/decorator-5.1.1-py3-none-any.whl (9.1 kB)\n",
            "Collecting astor\n",
            "  Using cached https://pypi.tuna.tsinghua.edu.cn/packages/c3/88/97eef84f48fa04fbd6750e62dcceafba6c63c81b7ac1420856c8dcc0a3f9/astor-0.8.1-py2.py3-none-any.whl (27 kB)\n",
            "Requirement already satisfied: protobuf>=3.20.2 in /usr/local/lib/python3.8/dist-packages (from paddlepaddle-gpu==2.5.1) (4.24.3)\n",
            "Requirement already satisfied: idna in /usr/local/lib/python3.8/dist-packages (from httpx->paddlepaddle-gpu==2.5.1) (3.4)\n",
            "Collecting httpcore<0.19.0,>=0.18.0\n",
            "  Downloading https://pypi.tuna.tsinghua.edu.cn/packages/ac/97/724afbb7925339f6214bf1fdb5714d1a462690466832bf8fb3fd497649f1/httpcore-0.18.0-py3-none-any.whl (76 kB)\n",
            "\u001b[2K     \u001b[90m━━━━━━━━━━━━━━━━━━━━━━━━━━━━━━━━━━━━━━━━\u001b[0m \u001b[32m76.0/76.0 KB\u001b[0m \u001b[31m2.3 MB/s\u001b[0m eta \u001b[36m0:00:00\u001b[0m\n",
            "\u001b[?25hCollecting sniffio\n",
            "  Downloading https://pypi.tuna.tsinghua.edu.cn/packages/c3/a0/5dba8ed157b0136607c7f2151db695885606968d1fae123dc3391e0cfdbf/sniffio-1.3.0-py3-none-any.whl (10 kB)\n",
            "Requirement already satisfied: certifi in /usr/local/lib/python3.8/dist-packages (from httpx->paddlepaddle-gpu==2.5.1) (2023.7.22)\n",
            "Collecting anyio<5.0,>=3.0\n",
            "  Downloading https://pypi.tuna.tsinghua.edu.cn/packages/36/55/ad4de788d84a630656ece71059665e01ca793c04294c463fd84132f40fe6/anyio-4.0.0-py3-none-any.whl (83 kB)\n",
            "\u001b[2K     \u001b[90m━━━━━━━━━━━━━━━━━━━━━━━━━━━━━━━━━━━━━━━━\u001b[0m \u001b[32m83.1/83.1 KB\u001b[0m \u001b[31m2.3 MB/s\u001b[0m eta \u001b[36m0:00:00\u001b[0m\n",
            "\u001b[?25hCollecting h11<0.15,>=0.13\n",
            "  Downloading https://pypi.tuna.tsinghua.edu.cn/packages/95/04/ff642e65ad6b90db43e668d70ffb6736436c7ce41fcc549f4e9472234127/h11-0.14.0-py3-none-any.whl (58 kB)\n",
            "\u001b[2K     \u001b[90m━━━━━━━━━━━━━━━━━━━━━━━━━━━━━━━━━━━━━━━━\u001b[0m \u001b[32m58.3/58.3 KB\u001b[0m \u001b[31m2.3 MB/s\u001b[0m eta \u001b[36m0:00:00\u001b[0m\n",
            "\u001b[?25hCollecting exceptiongroup>=1.0.2\n",
            "  Downloading https://pypi.tuna.tsinghua.edu.cn/packages/ad/83/b71e58666f156a39fb29417e4c8ca4bc7400c0dd4ed9e8842ab54dc8c344/exceptiongroup-1.1.3-py3-none-any.whl (14 kB)\n",
            "Installing collected packages: paddle-bfloat, sniffio, opt-einsum, h11, exceptiongroup, decorator, astor, anyio, httpcore, httpx, paddlepaddle-gpu\n",
            "Successfully installed anyio-4.0.0 astor-0.8.1 decorator-5.1.1 exceptiongroup-1.1.3 h11-0.14.0 httpcore-0.18.0 httpx-0.25.0 opt-einsum-3.3.0 paddle-bfloat-0.1.7 paddlepaddle-gpu-2.5.1 sniffio-1.3.0\n",
            "\u001b[33mWARNING: Running pip as the 'root' user can result in broken permissions and conflicting behaviour with the system package manager. It is recommended to use a virtual environment instead: https://pip.pypa.io/warnings/venv\u001b[0m\u001b[33m\n",
            "\u001b[0m"
          ]
        }
      ],
      "source": [
        "!python3.8 -m pip install paddlepaddle-gpu==2.5.1 -i https://pypi.tuna.tsinghua.edu.cn/simple"
      ]
    },
    {
      "cell_type": "code",
      "source": [
        "!wget http://archive.ubuntu.com/ubuntu/pool/main/o/openssl/libssl1.1_1.1.0g-2ubuntu4_amd64.deb\n",
        "!dpkg -i libssl1.1_1.1.0g-2ubuntu4_amd64.deb"
      ],
      "metadata": {
        "colab": {
          "base_uri": "https://localhost:8080/"
        },
        "id": "-oPXYs8TpDh7",
        "outputId": "468cec67-3ff7-451a-eb22-f784ddd34258"
      },
      "execution_count": 4,
      "outputs": [
        {
          "output_type": "stream",
          "name": "stdout",
          "text": [
            "--2023-09-18 09:59:48--  http://archive.ubuntu.com/ubuntu/pool/main/o/openssl/libssl1.1_1.1.0g-2ubuntu4_amd64.deb\n",
            "Resolving archive.ubuntu.com (archive.ubuntu.com)... 91.189.91.83, 91.189.91.81, 185.125.190.39, ...\n",
            "Connecting to archive.ubuntu.com (archive.ubuntu.com)|91.189.91.83|:80... connected.\n",
            "HTTP request sent, awaiting response... 200 OK\n",
            "Length: 1128092 (1.1M) [application/vnd.debian.binary-package]\n",
            "Saving to: ‘libssl1.1_1.1.0g-2ubuntu4_amd64.deb’\n",
            "\n",
            "libssl1.1_1.1.0g-2u 100%[===================>]   1.08M  1.95MB/s    in 0.6s    \n",
            "\n",
            "2023-09-18 09:59:49 (1.95 MB/s) - ‘libssl1.1_1.1.0g-2ubuntu4_amd64.deb’ saved [1128092/1128092]\n",
            "\n",
            "Selecting previously unselected package libssl1.1:amd64.\n",
            "(Reading database ... 122553 files and directories currently installed.)\n",
            "Preparing to unpack libssl1.1_1.1.0g-2ubuntu4_amd64.deb ...\n",
            "Unpacking libssl1.1:amd64 (1.1.0g-2ubuntu4) ...\n",
            "Setting up libssl1.1:amd64 (1.1.0g-2ubuntu4) ...\n",
            "Processing triggers for libc-bin (2.35-0ubuntu3.1) ...\n",
            "/sbin/ldconfig.real: /usr/local/lib/libtbb.so.12 is not a symbolic link\n",
            "\n",
            "/sbin/ldconfig.real: /usr/local/lib/libtbbbind_2_5.so.3 is not a symbolic link\n",
            "\n",
            "/sbin/ldconfig.real: /usr/local/lib/libtbbbind.so.3 is not a symbolic link\n",
            "\n",
            "/sbin/ldconfig.real: /usr/local/lib/libtbbmalloc_proxy.so.2 is not a symbolic link\n",
            "\n",
            "/sbin/ldconfig.real: /usr/local/lib/libtbbmalloc.so.2 is not a symbolic link\n",
            "\n",
            "/sbin/ldconfig.real: /usr/local/lib/libtbbbind_2_0.so.3 is not a symbolic link\n",
            "\n"
          ]
        }
      ]
    },
    {
      "cell_type": "code",
      "source": [
        "# Run code with Python 3.8\n",
        "!echo \"import paddle\" > import_check.py\n",
        "!python3.8 import_check.py"
      ],
      "metadata": {
        "id": "VJ6tLUiZIDOj",
        "colab": {
          "base_uri": "https://localhost:8080/"
        },
        "outputId": "cea95b1f-4fa8-43c9-ca03-9d277c1f81ed"
      },
      "execution_count": 5,
      "outputs": [
        {
          "output_type": "stream",
          "name": "stdout",
          "text": [
            "Traceback (most recent call last):\n",
            "  File \"import_check.py\", line 1, in <module>\n",
            "    import paddle\n",
            "ModuleNotFoundError: No module named 'paddle'\n"
          ]
        }
      ]
    },
    {
      "cell_type": "code",
      "source": [
        "!python3.8 --version"
      ],
      "metadata": {
        "id": "4l2PwhaNEwbp",
        "colab": {
          "base_uri": "https://localhost:8080/"
        },
        "outputId": "921a0fd1-4eba-44bf-dc13-4ae06161ccd4"
      },
      "execution_count": 6,
      "outputs": [
        {
          "output_type": "stream",
          "name": "stdout",
          "text": [
            "Python 3.8.18\n"
          ]
        }
      ]
    },
    {
      "cell_type": "code",
      "source": [
        "%mkdir ~/work\n",
        "%cd /root/work\n",
        "!pwd\n",
        "# For the convenience of operation, the necessary files have been saved in the work directory, so you don't need to download them\n",
        "!git clone --depth 1 https://github.com/PaddlePaddle/PaddleSeg.git"
      ],
      "metadata": {
        "id": "P8nrIkc_qTmr",
        "colab": {
          "base_uri": "https://localhost:8080/"
        },
        "outputId": "98a5101e-1463-478b-b947-c1584af77072"
      },
      "execution_count": 7,
      "outputs": [
        {
          "output_type": "stream",
          "name": "stdout",
          "text": [
            "/root/work\n",
            "/root/work\n",
            "Cloning into 'PaddleSeg'...\n",
            "remote: Enumerating objects: 3047, done.\u001b[K\n",
            "remote: Counting objects: 100% (3047/3047), done.\u001b[K\n",
            "remote: Compressing objects: 100% (2258/2258), done.\u001b[K\n",
            "remote: Total 3047 (delta 924), reused 2044 (delta 663), pack-reused 0\u001b[K\n",
            "Receiving objects: 100% (3047/3047), 51.10 MiB | 6.06 MiB/s, done.\n",
            "Resolving deltas: 100% (924/924), done.\n"
          ]
        }
      ]
    },
    {
      "cell_type": "code",
      "source": [
        "%cd ~/work/PaddleSeg\n",
        "!python3.8 -m pip install -e .\n",
        "%cd Matting\n",
        "!python3.8 -m pip install -r requirements.txt"
      ],
      "metadata": {
        "id": "yz02XModyp0W",
        "colab": {
          "base_uri": "https://localhost:8080/"
        },
        "outputId": "8340a02c-a7ed-4a23-de9f-ad4a060c41ec"
      },
      "execution_count": 8,
      "outputs": [
        {
          "output_type": "stream",
          "name": "stdout",
          "text": [
            "/root/work/PaddleSeg\n",
            "Obtaining file:///root/work/PaddleSeg\n",
            "  \u001b[1;31merror\u001b[0m: \u001b[1msubprocess-exited-with-error\u001b[0m\n",
            "  \n",
            "  \u001b[31m×\u001b[0m \u001b[32mpython setup.py egg_info\u001b[0m did not run successfully.\n",
            "  \u001b[31m│\u001b[0m exit code: \u001b[1;36m1\u001b[0m\n",
            "  \u001b[31m╰─>\u001b[0m See above for output.\n",
            "  \n",
            "  \u001b[1;35mnote\u001b[0m: This error originates from a subprocess, and is likely not a problem with pip.\n",
            "  Preparing metadata (setup.py) ... \u001b[?25l\u001b[?25herror\n",
            "\u001b[1;31merror\u001b[0m: \u001b[1mmetadata-generation-failed\u001b[0m\n",
            "\n",
            "\u001b[31m×\u001b[0m Encountered error while generating package metadata.\n",
            "\u001b[31m╰─>\u001b[0m See above for output.\n",
            "\n",
            "\u001b[1;35mnote\u001b[0m: This is an issue with the package mentioned above, not pip.\n",
            "\u001b[1;36mhint\u001b[0m: See above for details.\n",
            "/root/work/PaddleSeg/Matting\n",
            "Collecting paddleseg>=2.5\n",
            "  Downloading paddleseg-2.8.0-py3-none-any.whl (424 kB)\n",
            "\u001b[2K     \u001b[90m━━━━━━━━━━━━━━━━━━━━━━━━━━━━━━━━━━━━━━━\u001b[0m \u001b[32m424.3/424.3 KB\u001b[0m \u001b[31m1.6 MB/s\u001b[0m eta \u001b[36m0:00:00\u001b[0m\n",
            "\u001b[?25hCollecting pymatting\n",
            "  Downloading PyMatting-1.1.8-py3-none-any.whl (47 kB)\n",
            "\u001b[2K     \u001b[90m━━━━━━━━━━━━━━━━━━━━━━━━━━━━━━━━━━━━━━━━\u001b[0m \u001b[32m47.7/47.7 KB\u001b[0m \u001b[31m6.5 MB/s\u001b[0m eta \u001b[36m0:00:00\u001b[0m\n",
            "\u001b[?25hCollecting scikit-image\n",
            "  Downloading scikit_image-0.21.0-cp38-cp38-manylinux_2_17_x86_64.manylinux2014_x86_64.whl (13.9 MB)\n",
            "\u001b[2K     \u001b[90m━━━━━━━━━━━━━━━━━━━━━━━━━━━━━━━━━━━━━━━━\u001b[0m \u001b[32m13.9/13.9 MB\u001b[0m \u001b[31m57.0 MB/s\u001b[0m eta \u001b[36m0:00:00\u001b[0m\n",
            "\u001b[?25hCollecting numba\n",
            "  Downloading numba-0.57.1-cp38-cp38-manylinux2014_x86_64.manylinux_2_17_x86_64.whl (3.6 MB)\n",
            "\u001b[2K     \u001b[90m━━━━━━━━━━━━━━━━━━━━━━━━━━━━━━━━━━━━━━━━\u001b[0m \u001b[32m3.6/3.6 MB\u001b[0m \u001b[31m30.1 MB/s\u001b[0m eta \u001b[36m0:00:00\u001b[0m\n",
            "\u001b[?25hCollecting opencv-python\n",
            "  Downloading opencv_python-4.8.0.76-cp37-abi3-manylinux_2_17_x86_64.manylinux2014_x86_64.whl (61.7 MB)\n",
            "\u001b[2K     \u001b[90m━━━━━━━━━━━━━━━━━━━━━━━━━━━━━━━━━━━━━━━━\u001b[0m \u001b[32m61.7/61.7 MB\u001b[0m \u001b[31m10.2 MB/s\u001b[0m eta \u001b[36m0:00:00\u001b[0m\n",
            "\u001b[?25hCollecting pyyaml>=5.1\n",
            "  Downloading PyYAML-6.0.1-cp38-cp38-manylinux_2_17_x86_64.manylinux2014_x86_64.whl (736 kB)\n",
            "\u001b[2K     \u001b[90m━━━━━━━━━━━━━━━━━━━━━━━━━━━━━━━━━━━━━━\u001b[0m \u001b[32m736.6/736.6 KB\u001b[0m \u001b[31m54.6 MB/s\u001b[0m eta \u001b[36m0:00:00\u001b[0m\n",
            "\u001b[?25hCollecting tqdm\n",
            "  Downloading tqdm-4.66.1-py3-none-any.whl (78 kB)\n",
            "\u001b[2K     \u001b[90m━━━━━━━━━━━━━━━━━━━━━━━━━━━━━━━━━━━━━━━━\u001b[0m \u001b[32m78.3/78.3 KB\u001b[0m \u001b[31m6.3 MB/s\u001b[0m eta \u001b[36m0:00:00\u001b[0m\n",
            "\u001b[?25hCollecting opencv-python\n",
            "  Downloading opencv_python-4.5.5.64-cp36-abi3-manylinux_2_17_x86_64.manylinux2014_x86_64.whl (60.5 MB)\n",
            "\u001b[2K     \u001b[90m━━━━━━━━━━━━━━━━━━━━━━━━━━━━━━━━━━━━━━━━\u001b[0m \u001b[32m60.5/60.5 MB\u001b[0m \u001b[31m10.2 MB/s\u001b[0m eta \u001b[36m0:00:00\u001b[0m\n",
            "\u001b[?25hCollecting filelock\n",
            "  Downloading filelock-3.12.4-py3-none-any.whl (11 kB)\n",
            "Collecting scipy\n",
            "  Downloading scipy-1.10.1-cp38-cp38-manylinux_2_17_x86_64.manylinux2014_x86_64.whl (34.5 MB)\n",
            "\u001b[2K     \u001b[90m━━━━━━━━━━━━━━━━━━━━━━━━━━━━━━━━━━━━━━━━\u001b[0m \u001b[32m34.5/34.5 MB\u001b[0m \u001b[31m34.1 MB/s\u001b[0m eta \u001b[36m0:00:00\u001b[0m\n",
            "\u001b[?25hCollecting visualdl>=2.2.0\n",
            "  Downloading visualdl-2.5.3-py3-none-any.whl (6.3 MB)\n",
            "\u001b[2K     \u001b[90m━━━━━━━━━━━━━━━━━━━━━━━━━━━━━━━━━━━━━━━━\u001b[0m \u001b[32m6.3/6.3 MB\u001b[0m \u001b[31m74.7 MB/s\u001b[0m eta \u001b[36m0:00:00\u001b[0m\n",
            "\u001b[?25hCollecting scikit-learn\n",
            "  Downloading scikit_learn-1.3.0-cp38-cp38-manylinux_2_17_x86_64.manylinux2014_x86_64.whl (11.1 MB)\n",
            "\u001b[2K     \u001b[90m━━━━━━━━━━━━━━━━━━━━━━━━━━━━━━━━━━━━━━━━\u001b[0m \u001b[32m11.1/11.1 MB\u001b[0m \u001b[31m99.9 MB/s\u001b[0m eta \u001b[36m0:00:00\u001b[0m\n",
            "\u001b[?25hCollecting prettytable\n",
            "  Downloading prettytable-3.9.0-py3-none-any.whl (27 kB)\n",
            "Collecting numpy>=1.16.0\n",
            "  Downloading numpy-1.24.4-cp38-cp38-manylinux_2_17_x86_64.manylinux2014_x86_64.whl (17.3 MB)\n",
            "\u001b[2K     \u001b[90m━━━━━━━━━━━━━━━━━━━━━━━━━━━━━━━━━━━━━━━━\u001b[0m \u001b[32m17.3/17.3 MB\u001b[0m \u001b[31m92.9 MB/s\u001b[0m eta \u001b[36m0:00:00\u001b[0m\n",
            "\u001b[?25hCollecting pillow>=5.2.0\n",
            "  Downloading Pillow-10.0.1-cp38-cp38-manylinux_2_28_x86_64.whl (3.6 MB)\n",
            "\u001b[2K     \u001b[90m━━━━━━━━━━━━━━━━━━━━━━━━━━━━━━━━━━━━━━━━\u001b[0m \u001b[32m3.6/3.6 MB\u001b[0m \u001b[31m88.6 MB/s\u001b[0m eta \u001b[36m0:00:00\u001b[0m\n",
            "\u001b[?25hCollecting tifffile>=2022.8.12\n",
            "  Downloading tifffile-2023.7.10-py3-none-any.whl (220 kB)\n",
            "\u001b[2K     \u001b[90m━━━━━━━━━━━━━━━━━━━━━━━━━━━━━━━━━━━━━━\u001b[0m \u001b[32m220.9/220.9 KB\u001b[0m \u001b[31m27.5 MB/s\u001b[0m eta \u001b[36m0:00:00\u001b[0m\n",
            "\u001b[?25hCollecting PyWavelets>=1.1.1\n",
            "  Downloading PyWavelets-1.4.1-cp38-cp38-manylinux_2_17_x86_64.manylinux2014_x86_64.whl (6.9 MB)\n",
            "\u001b[2K     \u001b[90m━━━━━━━━━━━━━━━━━━━━━━━━━━━━━━━━━━━━━━━━\u001b[0m \u001b[32m6.9/6.9 MB\u001b[0m \u001b[31m24.1 MB/s\u001b[0m eta \u001b[36m0:00:00\u001b[0m\n",
            "\u001b[?25hCollecting lazy_loader>=0.2\n",
            "  Downloading lazy_loader-0.3-py3-none-any.whl (9.1 kB)\n",
            "Collecting networkx>=2.8\n",
            "  Downloading networkx-3.1-py3-none-any.whl (2.1 MB)\n",
            "\u001b[2K     \u001b[90m━━━━━━━━━━━━━━━━━━━━━━━━━━━━━━━━━━━━━━━━\u001b[0m \u001b[32m2.1/2.1 MB\u001b[0m \u001b[31m92.4 MB/s\u001b[0m eta \u001b[36m0:00:00\u001b[0m\n",
            "\u001b[?25hCollecting imageio>=2.27\n",
            "  Downloading imageio-2.31.3-py3-none-any.whl (313 kB)\n",
            "\u001b[2K     \u001b[90m━━━━━━━━━━━━━━━━━━━━━━━━━━━━━━━━━━━━━━\u001b[0m \u001b[32m313.0/313.0 KB\u001b[0m \u001b[31m34.7 MB/s\u001b[0m eta \u001b[36m0:00:00\u001b[0m\n",
            "\u001b[?25hCollecting packaging>=21\n",
            "  Downloading packaging-23.1-py3-none-any.whl (48 kB)\n",
            "\u001b[2K     \u001b[90m━━━━━━━━━━━━━━━━━━━━━━━━━━━━━━━━━━━━━━━━\u001b[0m \u001b[32m48.9/48.9 KB\u001b[0m \u001b[31m6.6 MB/s\u001b[0m eta \u001b[36m0:00:00\u001b[0m\n",
            "\u001b[?25hCollecting importlib-metadata\n",
            "  Downloading importlib_metadata-6.8.0-py3-none-any.whl (22 kB)\n",
            "Collecting llvmlite<0.41,>=0.40.0dev0\n",
            "  Downloading llvmlite-0.40.1-cp38-cp38-manylinux_2_17_x86_64.manylinux2014_x86_64.whl (42.1 MB)\n",
            "\u001b[2K     \u001b[90m━━━━━━━━━━━━━━━━━━━━━━━━━━━━━━━━━━━━━━━━\u001b[0m \u001b[32m42.1/42.1 MB\u001b[0m \u001b[31m14.7 MB/s\u001b[0m eta \u001b[36m0:00:00\u001b[0m\n",
            "\u001b[?25hCollecting matplotlib\n",
            "  Downloading matplotlib-3.7.3-cp38-cp38-manylinux_2_12_x86_64.manylinux2010_x86_64.whl (9.2 MB)\n",
            "\u001b[2K     \u001b[90m━━━━━━━━━━━━━━━━━━━━━━━━━━━━━━━━━━━━━━━━\u001b[0m \u001b[32m9.2/9.2 MB\u001b[0m \u001b[31m116.7 MB/s\u001b[0m eta \u001b[36m0:00:00\u001b[0m\n",
            "\u001b[?25hCollecting bce-python-sdk\n",
            "  Downloading bce_python_sdk-0.8.90-py3-none-any.whl (235 kB)\n",
            "\u001b[2K     \u001b[90m━━━━━━━━━━━━━━━━━━━━━━━━━━━━━━━━━━━━━━\u001b[0m \u001b[32m235.3/235.3 KB\u001b[0m \u001b[31m26.6 MB/s\u001b[0m eta \u001b[36m0:00:00\u001b[0m\n",
            "\u001b[?25hRequirement already satisfied: six>=1.14.0 in /usr/lib/python3/dist-packages (from visualdl>=2.2.0->paddleseg>=2.5->-r requirements.txt (line 1)) (1.16.0)\n",
            "Collecting pandas\n",
            "  Downloading pandas-2.0.3-cp38-cp38-manylinux_2_17_x86_64.manylinux2014_x86_64.whl (12.4 MB)\n",
            "\u001b[2K     \u001b[90m━━━━━━━━━━━━━━━━━━━━━━━━━━━━━━━━━━━━━━━\u001b[0m \u001b[32m12.4/12.4 MB\u001b[0m \u001b[31m112.1 MB/s\u001b[0m eta \u001b[36m0:00:00\u001b[0m\n",
            "\u001b[?25hCollecting requests\n",
            "  Downloading requests-2.31.0-py3-none-any.whl (62 kB)\n",
            "\u001b[2K     \u001b[90m━━━━━━━━━━━━━━━━━━━━━━━━━━━━━━━━━━━━━━━━\u001b[0m \u001b[32m62.6/62.6 KB\u001b[0m \u001b[31m8.1 MB/s\u001b[0m eta \u001b[36m0:00:00\u001b[0m\n",
            "\u001b[?25hCollecting rarfile\n",
            "  Downloading rarfile-4.1-py3-none-any.whl (28 kB)\n",
            "Collecting protobuf>=3.20.0\n",
            "  Downloading protobuf-4.24.3-cp37-abi3-manylinux2014_x86_64.whl (311 kB)\n",
            "\u001b[2K     \u001b[90m━━━━━━━━━━━━━━━━━━━━━━━━━━━━━━━━━━━━━━\u001b[0m \u001b[32m311.6/311.6 KB\u001b[0m \u001b[31m35.4 MB/s\u001b[0m eta \u001b[36m0:00:00\u001b[0m\n",
            "\u001b[?25hCollecting flask>=1.1.1\n",
            "  Downloading flask-2.3.3-py3-none-any.whl (96 kB)\n",
            "\u001b[2K     \u001b[90m━━━━━━━━━━━━━━━━━━━━━━━━━━━━━━━━━━━━━━━━\u001b[0m \u001b[32m96.1/96.1 KB\u001b[0m \u001b[31m12.3 MB/s\u001b[0m eta \u001b[36m0:00:00\u001b[0m\n",
            "\u001b[?25hCollecting Flask-Babel>=3.0.0\n",
            "  Downloading flask_babel-3.1.0-py3-none-any.whl (9.6 kB)\n",
            "Collecting psutil\n",
            "  Downloading psutil-5.9.5-cp36-abi3-manylinux_2_12_x86_64.manylinux2010_x86_64.manylinux_2_17_x86_64.manylinux2014_x86_64.whl (282 kB)\n",
            "\u001b[2K     \u001b[90m━━━━━━━━━━━━━━━━━━━━━━━━━━━━━━━━━━━━━━\u001b[0m \u001b[32m282.1/282.1 KB\u001b[0m \u001b[31m32.3 MB/s\u001b[0m eta \u001b[36m0:00:00\u001b[0m\n",
            "\u001b[?25hCollecting zipp>=0.5\n",
            "  Downloading zipp-3.16.2-py3-none-any.whl (7.2 kB)\n",
            "Collecting wcwidth\n",
            "  Downloading wcwidth-0.2.6-py2.py3-none-any.whl (29 kB)\n",
            "Collecting threadpoolctl>=2.0.0\n",
            "  Downloading threadpoolctl-3.2.0-py3-none-any.whl (15 kB)\n",
            "Collecting joblib>=1.1.1\n",
            "  Downloading joblib-1.3.2-py3-none-any.whl (302 kB)\n",
            "\u001b[2K     \u001b[90m━━━━━━━━━━━━━━━━━━━━━━━━━━━━━━━━━━━━━━\u001b[0m \u001b[32m302.2/302.2 KB\u001b[0m \u001b[31m26.1 MB/s\u001b[0m eta \u001b[36m0:00:00\u001b[0m\n",
            "\u001b[?25hCollecting itsdangerous>=2.1.2\n",
            "  Downloading itsdangerous-2.1.2-py3-none-any.whl (15 kB)\n",
            "Collecting click>=8.1.3\n",
            "  Downloading click-8.1.7-py3-none-any.whl (97 kB)\n",
            "\u001b[2K     \u001b[90m━━━━━━━━━━━━━━━━━━━━━━━━━━━━━━━━━━━━━━━━\u001b[0m \u001b[32m97.9/97.9 KB\u001b[0m \u001b[31m14.1 MB/s\u001b[0m eta \u001b[36m0:00:00\u001b[0m\n",
            "\u001b[?25hCollecting blinker>=1.6.2\n",
            "  Downloading blinker-1.6.2-py3-none-any.whl (13 kB)\n",
            "Collecting Werkzeug>=2.3.7\n",
            "  Downloading werkzeug-2.3.7-py3-none-any.whl (242 kB)\n",
            "\u001b[2K     \u001b[90m━━━━━━━━━━━━━━━━━━━━━━━━━━━━━━━━━━━━━━\u001b[0m \u001b[32m242.2/242.2 KB\u001b[0m \u001b[31m30.8 MB/s\u001b[0m eta \u001b[36m0:00:00\u001b[0m\n",
            "\u001b[?25hCollecting Jinja2>=3.1.2\n",
            "  Downloading Jinja2-3.1.2-py3-none-any.whl (133 kB)\n",
            "\u001b[2K     \u001b[90m━━━━━━━━━━━━━━━━━━━━━━━━━━━━━━━━━━━━━━\u001b[0m \u001b[32m133.1/133.1 KB\u001b[0m \u001b[31m17.8 MB/s\u001b[0m eta \u001b[36m0:00:00\u001b[0m\n",
            "\u001b[?25hCollecting Babel>=2.12\n",
            "  Downloading Babel-2.12.1-py3-none-any.whl (10.1 MB)\n",
            "\u001b[2K     \u001b[90m━━━━━━━━━━━━━━━━━━━━━━━━━━━━━━━━━━━━━━━\u001b[0m \u001b[32m10.1/10.1 MB\u001b[0m \u001b[31m125.4 MB/s\u001b[0m eta \u001b[36m0:00:00\u001b[0m\n",
            "\u001b[?25hCollecting pytz>=2022.7\n",
            "  Downloading pytz-2023.3.post1-py2.py3-none-any.whl (502 kB)\n",
            "\u001b[2K     \u001b[90m━━━━━━━━━━━━━━━━━━━━━━━━━━━━━━━━━━━━━━\u001b[0m \u001b[32m502.5/502.5 KB\u001b[0m \u001b[31m51.6 MB/s\u001b[0m eta \u001b[36m0:00:00\u001b[0m\n",
            "\u001b[?25hCollecting future>=0.6.0\n",
            "  Downloading future-0.18.3.tar.gz (840 kB)\n",
            "\u001b[2K     \u001b[90m━━━━━━━━━━━━━━━━━━━━━━━━━━━━━━━━━━━━━━\u001b[0m \u001b[32m840.9/840.9 KB\u001b[0m \u001b[31m45.4 MB/s\u001b[0m eta \u001b[36m0:00:00\u001b[0m\n",
            "\u001b[?25h  Preparing metadata (setup.py) ... \u001b[?25l\u001b[?25hdone\n",
            "Collecting pycryptodome>=3.8.0\n",
            "  Downloading pycryptodome-3.19.0-cp35-abi3-manylinux_2_17_x86_64.manylinux2014_x86_64.whl (2.1 MB)\n",
            "\u001b[2K     \u001b[90m━━━━━━━━━━━━━━━━━━━━━━━━━━━━━━━━━━━━━━━━\u001b[0m \u001b[32m2.1/2.1 MB\u001b[0m \u001b[31m52.6 MB/s\u001b[0m eta \u001b[36m0:00:00\u001b[0m\n",
            "\u001b[?25hCollecting kiwisolver>=1.0.1\n",
            "  Downloading kiwisolver-1.4.5-cp38-cp38-manylinux_2_5_x86_64.manylinux1_x86_64.whl (1.2 MB)\n",
            "\u001b[2K     \u001b[90m━━━━━━━━━━━━━━━━━━━━━━━━━━━━━━━━━━━━━━━━\u001b[0m \u001b[32m1.2/1.2 MB\u001b[0m \u001b[31m40.4 MB/s\u001b[0m eta \u001b[36m0:00:00\u001b[0m\n",
            "\u001b[?25hCollecting importlib-resources>=3.2.0\n",
            "  Downloading importlib_resources-6.0.1-py3-none-any.whl (34 kB)\n",
            "Collecting cycler>=0.10\n",
            "  Downloading cycler-0.11.0-py3-none-any.whl (6.4 kB)\n",
            "Collecting pyparsing>=2.3.1\n",
            "  Downloading pyparsing-3.1.1-py3-none-any.whl (103 kB)\n",
            "\u001b[2K     \u001b[90m━━━━━━━━━━━━━━━━━━━━━━━━━━━━━━━━━━━━━━\u001b[0m \u001b[32m103.1/103.1 KB\u001b[0m \u001b[31m12.3 MB/s\u001b[0m eta \u001b[36m0:00:00\u001b[0m\n",
            "\u001b[?25hCollecting python-dateutil>=2.7\n",
            "  Downloading python_dateutil-2.8.2-py2.py3-none-any.whl (247 kB)\n",
            "\u001b[2K     \u001b[90m━━━━━━━━━━━━━━━━━━━━━━━━━━━━━━━━━━━━━━\u001b[0m \u001b[32m247.7/247.7 KB\u001b[0m \u001b[31m24.2 MB/s\u001b[0m eta \u001b[36m0:00:00\u001b[0m\n",
            "\u001b[?25hCollecting contourpy>=1.0.1\n",
            "  Downloading contourpy-1.1.1-cp38-cp38-manylinux_2_17_x86_64.manylinux2014_x86_64.whl (301 kB)\n",
            "\u001b[2K     \u001b[90m━━━━━━━━━━━━━━━━━━━━━━━━━━━━━━━━━━━━━━\u001b[0m \u001b[32m301.1/301.1 KB\u001b[0m \u001b[31m27.6 MB/s\u001b[0m eta \u001b[36m0:00:00\u001b[0m\n",
            "\u001b[?25hCollecting fonttools>=4.22.0\n",
            "  Downloading fonttools-4.42.1-cp38-cp38-manylinux_2_17_x86_64.manylinux2014_x86_64.whl (4.6 MB)\n",
            "\u001b[2K     \u001b[90m━━━━━━━━━━━━━━━━━━━━━━━━━━━━━━━━━━━━━━━━\u001b[0m \u001b[32m4.6/4.6 MB\u001b[0m \u001b[31m73.4 MB/s\u001b[0m eta \u001b[36m0:00:00\u001b[0m\n",
            "\u001b[?25hCollecting tzdata>=2022.1\n",
            "  Downloading tzdata-2023.3-py2.py3-none-any.whl (341 kB)\n",
            "\u001b[2K     \u001b[90m━━━━━━━━━━━━━━━━━━━━━━━━━━━━━━━━━━━━━━\u001b[0m \u001b[32m341.8/341.8 KB\u001b[0m \u001b[31m33.0 MB/s\u001b[0m eta \u001b[36m0:00:00\u001b[0m\n",
            "\u001b[?25hCollecting charset-normalizer<4,>=2\n",
            "  Downloading charset_normalizer-3.2.0-cp38-cp38-manylinux_2_17_x86_64.manylinux2014_x86_64.whl (199 kB)\n",
            "\u001b[2K     \u001b[90m━━━━━━━━━━━━━━━━━━━━━━━━━━━━━━━━━━━━━━\u001b[0m \u001b[32m199.1/199.1 KB\u001b[0m \u001b[31m16.0 MB/s\u001b[0m eta \u001b[36m0:00:00\u001b[0m\n",
            "\u001b[?25hCollecting certifi>=2017.4.17\n",
            "  Downloading certifi-2023.7.22-py3-none-any.whl (158 kB)\n",
            "\u001b[2K     \u001b[90m━━━━━━━━━━━━━━━━━━━━━━━━━━━━━━━━━━━━━━\u001b[0m \u001b[32m158.3/158.3 KB\u001b[0m \u001b[31m18.1 MB/s\u001b[0m eta \u001b[36m0:00:00\u001b[0m\n",
            "\u001b[?25hCollecting urllib3<3,>=1.21.1\n",
            "  Downloading urllib3-2.0.4-py3-none-any.whl (123 kB)\n",
            "\u001b[2K     \u001b[90m━━━━━━━━━━━━━━━━━━━━━━━━━━━━━━━━━━━━━━\u001b[0m \u001b[32m123.9/123.9 KB\u001b[0m \u001b[31m15.2 MB/s\u001b[0m eta \u001b[36m0:00:00\u001b[0m\n",
            "\u001b[?25hCollecting idna<4,>=2.5\n",
            "  Downloading idna-3.4-py3-none-any.whl (61 kB)\n",
            "\u001b[2K     \u001b[90m━━━━━━━━━━━━━━━━━━━━━━━━━━━━━━━━━━━━━━━━\u001b[0m \u001b[32m61.5/61.5 KB\u001b[0m \u001b[31m6.1 MB/s\u001b[0m eta \u001b[36m0:00:00\u001b[0m\n",
            "\u001b[?25hCollecting MarkupSafe>=2.0\n",
            "  Downloading MarkupSafe-2.1.3-cp38-cp38-manylinux_2_17_x86_64.manylinux2014_x86_64.whl (25 kB)\n",
            "Building wheels for collected packages: future\n",
            "  Building wheel for future (setup.py) ... \u001b[?25l\u001b[?25hdone\n",
            "  Created wheel for future: filename=future-0.18.3-py3-none-any.whl size=492037 sha256=9700380bcc97ecb8f30292839d2dcc30b39e2c4e75898061302e513542e41002\n",
            "  Stored in directory: /root/.cache/pip/wheels/a0/0b/ee/e6994fadb42c1354dcccb139b0bf2795271bddfe6253ccdf11\n",
            "Successfully built future\n",
            "Installing collected packages: wcwidth, pytz, zipp, urllib3, tzdata, tqdm, threadpoolctl, rarfile, pyyaml, python-dateutil, pyparsing, pycryptodome, psutil, protobuf, prettytable, pillow, packaging, numpy, networkx, MarkupSafe, llvmlite, lazy_loader, kiwisolver, joblib, itsdangerous, idna, future, fonttools, filelock, cycler, click, charset-normalizer, certifi, blinker, Babel, Werkzeug, tifffile, scipy, requests, PyWavelets, pandas, opencv-python, Jinja2, importlib-resources, importlib-metadata, imageio, contourpy, bce-python-sdk, scikit-learn, scikit-image, numba, matplotlib, flask, pymatting, Flask-Babel, visualdl, paddleseg\n",
            "  Attempting uninstall: blinker\n",
            "    Found existing installation: blinker 1.4\n",
            "    Not uninstalling blinker at /usr/lib/python3/dist-packages, outside environment /usr\n",
            "    Can't uninstall 'blinker'. No files were found to uninstall.\n",
            "Successfully installed Babel-2.12.1 Flask-Babel-3.1.0 Jinja2-3.1.2 MarkupSafe-2.1.3 PyWavelets-1.4.1 Werkzeug-2.3.7 bce-python-sdk-0.8.90 blinker-1.6.2 certifi-2023.7.22 charset-normalizer-3.2.0 click-8.1.7 contourpy-1.1.1 cycler-0.11.0 filelock-3.12.4 flask-2.3.3 fonttools-4.42.1 future-0.18.3 idna-3.4 imageio-2.31.3 importlib-metadata-6.8.0 importlib-resources-6.0.1 itsdangerous-2.1.2 joblib-1.3.2 kiwisolver-1.4.5 lazy_loader-0.3 llvmlite-0.40.1 matplotlib-3.7.3 networkx-3.1 numba-0.57.1 numpy-1.24.4 opencv-python-4.5.5.64 packaging-23.1 paddleseg-2.8.0 pandas-2.0.3 pillow-10.0.1 prettytable-3.9.0 protobuf-4.24.3 psutil-5.9.5 pycryptodome-3.19.0 pymatting-1.1.8 pyparsing-3.1.1 python-dateutil-2.8.2 pytz-2023.3.post1 pyyaml-6.0.1 rarfile-4.1 requests-2.31.0 scikit-image-0.21.0 scikit-learn-1.3.0 scipy-1.10.1 threadpoolctl-3.2.0 tifffile-2023.7.10 tqdm-4.66.1 tzdata-2023.3 urllib3-2.0.4 visualdl-2.5.3 wcwidth-0.2.6 zipp-3.16.2\n",
            "\u001b[33mWARNING: Running pip as the 'root' user can result in broken permissions and conflicting behaviour with the system package manager. It is recommended to use a virtual environment instead: https://pip.pypa.io/warnings/venv\u001b[0m\u001b[33m\n",
            "\u001b[0m"
          ]
        }
      ]
    },
    {
      "cell_type": "markdown",
      "source": [
        "# Displaying results"
      ],
      "metadata": {
        "id": "Jjichc5u19Nw"
      }
    },
    {
      "cell_type": "code",
      "source": [
        "%cd ~/work/PaddleSeg/Matting\n",
        "# Download the pre-trained model files (.zip) i.e. Inference Model\n",
        "\n",
        "%mkdir logs\n"
      ],
      "metadata": {
        "id": "YB3cZC_8yuKH",
        "colab": {
          "base_uri": "https://localhost:8080/"
        },
        "outputId": "9e55af6e-cfee-46d4-d514-9ecae550beca"
      },
      "execution_count": 9,
      "outputs": [
        {
          "output_type": "stream",
          "name": "stdout",
          "text": [
            "/root/work/PaddleSeg/Matting\n"
          ]
        }
      ]
    },
    {
      "cell_type": "markdown",
      "source": [
        "```py\n",
        "Please follow the below steps to convert pre-trained paddle models into the onnx models:\n",
        "\n",
        "Step 1: Download pre-trained inference models from the following link- https://github.com/PaddlePaddle/PaddleSeg/tree/release/2.8/Matting\n",
        "\n",
        "Step 2: Unzip the downloaded file\n",
        "\n",
        "Step 3: cd <Unzipped directory>\n",
        "\n",
        "Step 4: Run the following command to convert paddle to onnx:\n",
        "      paddle2onnx --model_dir ./ --model_filename model.pdmodel --params_filename model.pdiparams --opset_version 11 --save_file modnet-mobilenetv2.onnx 2>&1|tee convert.log\n",
        "\n",
        "Note: Modify the input/output directory path as per your requirements.\n",
        "\n",
        "I am able to successfully convert the pre-trained modnet mobilenetv2 model into onnx model. Please follow the above steps and convert other models.\n",
        "```"
      ],
      "metadata": {
        "id": "yhEOruXZBcAh"
      }
    },
    {
      "cell_type": "code",
      "source": [
        "\n",
        "# MODNet-ResNet50_vd\n",
        "!wget https://paddleseg.bj.bcebos.com/matting/models/deploy/modnet-resnet50_vd.zip\n"
      ],
      "metadata": {
        "colab": {
          "base_uri": "https://localhost:8080/"
        },
        "id": "RCNm2V49t3Yi",
        "outputId": "d8496e0a-5bc7-41ee-fb34-41fae5ad5664"
      },
      "execution_count": 10,
      "outputs": [
        {
          "output_type": "stream",
          "name": "stdout",
          "text": [
            "--2023-09-18 10:01:00--  https://paddleseg.bj.bcebos.com/matting/models/deploy/modnet-resnet50_vd.zip\n",
            "Resolving paddleseg.bj.bcebos.com (paddleseg.bj.bcebos.com)... 103.235.46.61, 2409:8c04:1001:1002:0:ff:b001:368a\n",
            "Connecting to paddleseg.bj.bcebos.com (paddleseg.bj.bcebos.com)|103.235.46.61|:443... connected.\n",
            "HTTP request sent, awaiting response... 200 OK\n",
            "Length: 340625784 (325M) [application/octet-stream]\n",
            "Saving to: ‘modnet-resnet50_vd.zip’\n",
            "\n",
            "modnet-resnet50_vd. 100%[===================>] 324.85M  11.0MB/s    in 44s     \n",
            "\n",
            "2023-09-18 10:01:46 (7.41 MB/s) - ‘modnet-resnet50_vd.zip’ saved [340625784/340625784]\n",
            "\n"
          ]
        }
      ]
    },
    {
      "cell_type": "code",
      "source": [
        "%pwd\n",
        "!unzip modnet-resnet50_vd.zip\n",
        "# !cd modnet-resnet50_vd/\n",
        "%cd ~/work/PaddleSeg/Matting/modnet-resnet50_vd\n",
        "%pwd"
      ],
      "metadata": {
        "colab": {
          "base_uri": "https://localhost:8080/",
          "height": 165
        },
        "id": "bYxz9TlkD6mS",
        "outputId": "c48e791a-350e-47ab-f74d-77ccd1c82947"
      },
      "execution_count": 11,
      "outputs": [
        {
          "output_type": "stream",
          "name": "stdout",
          "text": [
            "Archive:  modnet-resnet50_vd.zip\n",
            "   creating: modnet-resnet50_vd/\n",
            "  inflating: modnet-resnet50_vd/model.pdiparams.info  \n",
            "  inflating: modnet-resnet50_vd/model.pdiparams  \n",
            "  inflating: modnet-resnet50_vd/model.pdmodel  \n",
            "  inflating: modnet-resnet50_vd/deploy.yaml  \n",
            "/root/work/PaddleSeg/Matting/modnet-resnet50_vd\n"
          ]
        },
        {
          "output_type": "execute_result",
          "data": {
            "text/plain": [
              "'/root/work/PaddleSeg/Matting/modnet-resnet50_vd'"
            ],
            "application/vnd.google.colaboratory.intrinsic+json": {
              "type": "string"
            }
          },
          "metadata": {},
          "execution_count": 11
        }
      ]
    },
    {
      "cell_type": "code",
      "source": [
        "%pwd\n",
        "!python3.8 -m pip install paddle2onnx"
      ],
      "metadata": {
        "id": "l75d3pSuFj4o",
        "colab": {
          "base_uri": "https://localhost:8080/"
        },
        "outputId": "728d9b13-f986-4989-9289-61330773d83f"
      },
      "execution_count": 12,
      "outputs": [
        {
          "output_type": "stream",
          "name": "stdout",
          "text": [
            "Collecting paddle2onnx\n",
            "  Downloading paddle2onnx-1.0.9-cp38-cp38-manylinux_2_12_x86_64.manylinux2010_x86_64.whl (3.1 MB)\n",
            "\u001b[2K     \u001b[90m━━━━━━━━━━━━━━━━━━━━━━━━━━━━━━━━━━━━━━━━\u001b[0m \u001b[32m3.1/3.1 MB\u001b[0m \u001b[31m16.3 MB/s\u001b[0m eta \u001b[36m0:00:00\u001b[0m\n",
            "\u001b[?25hInstalling collected packages: paddle2onnx\n",
            "Successfully installed paddle2onnx-1.0.9\n",
            "\u001b[33mWARNING: Running pip as the 'root' user can result in broken permissions and conflicting behaviour with the system package manager. It is recommended to use a virtual environment instead: https://pip.pypa.io/warnings/venv\u001b[0m\u001b[33m\n",
            "\u001b[0m"
          ]
        }
      ]
    },
    {
      "cell_type": "code",
      "source": [
        "!paddle2onnx --version\n",
        "%ls\n",
        "%pwd"
      ],
      "metadata": {
        "id": "3hh0GVp9Ff8x",
        "colab": {
          "base_uri": "https://localhost:8080/",
          "height": 93
        },
        "outputId": "7f68ac81-7121-4425-bfd8-3e72e79ee637"
      },
      "execution_count": 13,
      "outputs": [
        {
          "output_type": "stream",
          "name": "stdout",
          "text": [
            "2023-09-18 10:01:52 [INFO]\tpaddle2onnx-1.0.9 with python>=3.6, paddlepaddle>=2.0.0\n",
            "deploy.yaml  model.pdiparams  model.pdiparams.info  model.pdmodel\n"
          ]
        },
        {
          "output_type": "execute_result",
          "data": {
            "text/plain": [
              "'/root/work/PaddleSeg/Matting/modnet-resnet50_vd'"
            ],
            "application/vnd.google.colaboratory.intrinsic+json": {
              "type": "string"
            }
          },
          "metadata": {},
          "execution_count": 13
        }
      ]
    },
    {
      "cell_type": "markdown",
      "source": [
        "## MODNet-ResNet50_vd"
      ],
      "metadata": {
        "id": "063V68oK4E_o"
      }
    },
    {
      "cell_type": "code",
      "source": [
        "!time paddle2onnx \\\n",
        "        --model_dir ./ \\\n",
        "        --model_filename model.pdmodel \\\n",
        "        --params_filename model.pdiparams \\\n",
        "        --opset_version 11 \\\n",
        "        --save_file modnet-mobilenetv2.onnx 2>&1|tee ../logs/convert_MODNet-ResNet50_vd.log"
      ],
      "metadata": {
        "colab": {
          "base_uri": "https://localhost:8080/"
        },
        "id": "dWeLAYPLESkB",
        "outputId": "c0cb299f-c08d-47da-e7c1-b4cdcfd7c7f2"
      },
      "execution_count": 14,
      "outputs": [
        {
          "output_type": "stream",
          "name": "stdout",
          "text": [
            "[Paddle2ONNX] Start to parse PaddlePaddle model...\n",
            "[Paddle2ONNX] Model file path: ./model.pdmodel\n",
            "[Paddle2ONNX] Paramters file path: ./model.pdiparams\n",
            "[Paddle2ONNX] Start to parsing Paddle model...\n",
            "[Paddle2ONNX] Use opset_version = 11 for ONNX export.\n",
            "[Paddle2ONNX] PaddlePaddle model is exported as ONNX format now.\n",
            "2023-09-18 10:01:55 [INFO]\t===============Make PaddlePaddle Better!================\n",
            "2023-09-18 10:01:55 [INFO]\tA little survey: https://iwenjuan.baidu.com/?code=r8hu2s\n",
            "\n",
            "real\t0m3.751s\n",
            "user\t0m1.020s\n",
            "sys\t0m2.079s\n"
          ]
        }
      ]
    },
    {
      "cell_type": "code",
      "source": [
        "# !zip -r modnet-resnet50_vd.zip modnet-resnet50_vd/\n",
        "%cd .."
      ],
      "metadata": {
        "colab": {
          "base_uri": "https://localhost:8080/"
        },
        "id": "qL5myw31ZLQR",
        "outputId": "d3d4985a-20a7-4cca-ed8d-9f320d575471"
      },
      "execution_count": 15,
      "outputs": [
        {
          "output_type": "stream",
          "name": "stdout",
          "text": [
            "/root/work/PaddleSeg/Matting\n"
          ]
        }
      ]
    },
    {
      "cell_type": "markdown",
      "source": [
        "## PP-MattingV2-512"
      ],
      "metadata": {
        "id": "3oBIBEoI3tjJ"
      }
    },
    {
      "cell_type": "code",
      "source": [
        "# PP-MattingV2-512\n",
        "!wget https://paddleseg.bj.bcebos.com/matting/models/deploy/ppmattingv2-stdc1-human_512.zip\n",
        "\n",
        "!unzip ppmattingv2-stdc1-human_512.zip\n",
        "%cd ppmattingv2-stdc1-human_512"
      ],
      "metadata": {
        "colab": {
          "base_uri": "https://localhost:8080/"
        },
        "id": "v8rwp1sE3rI6",
        "outputId": "3e55cdfe-82a7-4489-c44a-ce3341ae5903"
      },
      "execution_count": 16,
      "outputs": [
        {
          "output_type": "stream",
          "name": "stdout",
          "text": [
            "--2023-09-18 10:01:56--  https://paddleseg.bj.bcebos.com/matting/models/deploy/ppmattingv2-stdc1-human_512.zip\n",
            "Resolving paddleseg.bj.bcebos.com (paddleseg.bj.bcebos.com)... 103.235.46.61, 2409:8c04:1001:1002:0:ff:b001:368a\n",
            "Connecting to paddleseg.bj.bcebos.com (paddleseg.bj.bcebos.com)|103.235.46.61|:443... connected.\n",
            "HTTP request sent, awaiting response... 200 OK\n",
            "Length: 33379434 (32M) [application/octet-stream]\n",
            "Saving to: ‘ppmattingv2-stdc1-human_512.zip’\n",
            "\n",
            "ppmattingv2-stdc1-h 100%[===================>]  31.83M  3.39MB/s    in 18s     \n",
            "\n",
            "2023-09-18 10:02:17 (1.75 MB/s) - ‘ppmattingv2-stdc1-human_512.zip’ saved [33379434/33379434]\n",
            "\n",
            "Archive:  ppmattingv2-stdc1-human_512.zip\n",
            "   creating: ppmattingv2-stdc1-human_512/\n",
            "  inflating: ppmattingv2-stdc1-human_512/model.pdiparams.info  \n",
            "  inflating: ppmattingv2-stdc1-human_512/model.pdiparams  \n",
            "  inflating: ppmattingv2-stdc1-human_512/model.pdmodel  \n",
            "  inflating: ppmattingv2-stdc1-human_512/deploy.yaml  \n",
            "/root/work/PaddleSeg/Matting/ppmattingv2-stdc1-human_512\n"
          ]
        }
      ]
    },
    {
      "cell_type": "code",
      "source": [
        "!time paddle2onnx \\\n",
        "        --model_dir ./ \\\n",
        "        --model_filename model.pdmodel \\\n",
        "        --params_filename model.pdiparams \\\n",
        "        --opset_version 11 \\\n",
        "        --save_file ppmattingv2-stdc1-human_512.onnx 2>&1|tee ../logs/convert_PP-MattingV2-512.log"
      ],
      "metadata": {
        "colab": {
          "base_uri": "https://localhost:8080/"
        },
        "id": "05DXjcBP3xei",
        "outputId": "467aa894-619b-4d62-87a7-53e57740d0a3"
      },
      "execution_count": 17,
      "outputs": [
        {
          "output_type": "stream",
          "name": "stdout",
          "text": [
            "[Paddle2ONNX] Start to parse PaddlePaddle model...\n",
            "[Paddle2ONNX] Model file path: ./model.pdmodel\n",
            "[Paddle2ONNX] Paramters file path: ./model.pdiparams\n",
            "[Paddle2ONNX] Start to parsing Paddle model...\n",
            "[Paddle2ONNX] Use opset_version = 11 for ONNX export.\n",
            "[Paddle2ONNX] PaddlePaddle model is exported as ONNX format now.\n",
            "2023-09-18 10:02:18 [INFO]\t===============Make PaddlePaddle Better!================\n",
            "2023-09-18 10:02:18 [INFO]\tA little survey: https://iwenjuan.baidu.com/?code=r8hu2s\n",
            "\n",
            "real\t0m1.058s\n",
            "user\t0m0.837s\n",
            "sys\t0m0.196s\n"
          ]
        }
      ]
    },
    {
      "cell_type": "code",
      "source": [
        "# !zip -r ppmattingv2-stdc1-human_512.zip ppmattingv2-stdc1-human_512/\n",
        "%cd .."
      ],
      "metadata": {
        "colab": {
          "base_uri": "https://localhost:8080/"
        },
        "id": "-MZFOjuw5CXd",
        "outputId": "adebbd49-3409-4db2-d593-9ca3d0ac4422"
      },
      "execution_count": 18,
      "outputs": [
        {
          "output_type": "stream",
          "name": "stdout",
          "text": [
            "/root/work/PaddleSeg/Matting\n"
          ]
        }
      ]
    },
    {
      "cell_type": "markdown",
      "source": [
        "```\n",
        "\n",
        "# PP-MattingV2-512\n",
        "!wget https://paddleseg.bj.bcebos.com/matting/models/deploy/ppmattingv2-stdc1-human_512.zip\n",
        "\n",
        "# (OPTIONALS)\n",
        "# PP-Matting-512\n",
        "!wget https://paddleseg.bj.bcebos.com/matting/models/deploy/ppmatting-hrnet_w18-human_512.zip\n",
        "\n",
        "# PP-Matting-1024\n",
        "!wget https://paddleseg.bj.bcebos.com/matting/models/deploy/ppmatting-hrnet_w18-human_1024.zip\n",
        "\n",
        "# PP-HumanMatting\n",
        "!wget https://paddleseg.bj.bcebos.com/matting/models/deploy/pp-humanmatting-resnet34_vd.zip\n",
        "\n",
        "# MODNet-MobileNetV2\n",
        "!wget https://paddleseg.bj.bcebos.com/matting/models/deploy/modnet-mobilenetv2.zip\n",
        "\n",
        "# MODNet-HRNet_W18\n",
        "!wget https://paddleseg.bj.bcebos.com/matting/models/deploy/modnet-hrnet_w18.zip\n",
        "\n",
        "# DIM-VGG16\n",
        "!wget https://paddleseg.bj.bcebos.com/matting/models/deploy/dim-vgg16.zip\n",
        "```"
      ],
      "metadata": {
        "id": "wWRFw5mh5Z8e"
      }
    },
    {
      "cell_type": "markdown",
      "source": [
        "------------------------------------------------------------------------------------------------"
      ],
      "metadata": {
        "id": "qp-YrHbe8bbI"
      }
    },
    {
      "cell_type": "markdown",
      "source": [
        "------------------------------------------------------------------------------------------------"
      ],
      "metadata": {
        "id": "JKEaEoOe8fKW"
      }
    },
    {
      "cell_type": "markdown",
      "source": [
        "## PP-Matting-512"
      ],
      "metadata": {
        "id": "b35JwOU-5jo2"
      }
    },
    {
      "cell_type": "code",
      "source": [
        "# PP-Matting-512\n",
        "!wget https://paddleseg.bj.bcebos.com/matting/models/deploy/ppmatting-hrnet_w18-human_512.zip"
      ],
      "metadata": {
        "colab": {
          "base_uri": "https://localhost:8080/"
        },
        "id": "QRIw0Pun5Sc1",
        "outputId": "453d1a13-e4c6-44c3-8841-6206914d9dc0"
      },
      "execution_count": 19,
      "outputs": [
        {
          "output_type": "stream",
          "name": "stdout",
          "text": [
            "--2023-09-18 10:02:18--  https://paddleseg.bj.bcebos.com/matting/models/deploy/ppmatting-hrnet_w18-human_512.zip\n",
            "Resolving paddleseg.bj.bcebos.com (paddleseg.bj.bcebos.com)... 103.235.46.61, 2409:8c04:1001:1002:0:ff:b001:368a\n",
            "Connecting to paddleseg.bj.bcebos.com (paddleseg.bj.bcebos.com)|103.235.46.61|:443... connected.\n",
            "HTTP request sent, awaiting response... 200 OK\n",
            "Length: 91188808 (87M) [application/octet-stream]\n",
            "Saving to: ‘ppmatting-hrnet_w18-human_512.zip’\n",
            "\n",
            "ppmatting-hrnet_w18 100%[===================>]  86.96M  11.7MB/s    in 26s     \n",
            "\n",
            "2023-09-18 10:02:46 (3.36 MB/s) - ‘ppmatting-hrnet_w18-human_512.zip’ saved [91188808/91188808]\n",
            "\n"
          ]
        }
      ]
    },
    {
      "cell_type": "code",
      "source": [
        "!unzip ppmatting-hrnet_w18-human_512.zip\n",
        "%cd ppmatting-hrnet_w18-human_512"
      ],
      "metadata": {
        "colab": {
          "base_uri": "https://localhost:8080/"
        },
        "id": "5M4M5dDZ5rrn",
        "outputId": "d8d904fa-6ee6-4cda-c273-0173bdaa1a88"
      },
      "execution_count": 20,
      "outputs": [
        {
          "output_type": "stream",
          "name": "stdout",
          "text": [
            "Archive:  ppmatting-hrnet_w18-human_512.zip\n",
            "   creating: ppmatting-hrnet_w18-human_512/\n",
            "  inflating: ppmatting-hrnet_w18-human_512/model.pdiparams.info  \n",
            "  inflating: ppmatting-hrnet_w18-human_512/model.pdiparams  \n",
            "  inflating: ppmatting-hrnet_w18-human_512/model.pdmodel  \n",
            "  inflating: ppmatting-hrnet_w18-human_512/deploy.yaml  \n",
            "/root/work/PaddleSeg/Matting/ppmatting-hrnet_w18-human_512\n"
          ]
        }
      ]
    },
    {
      "cell_type": "code",
      "source": [
        "!time paddle2onnx \\\n",
        "        --model_dir ./ \\\n",
        "        --model_filename /root/work/PaddleSeg/Matting/ppmatting-hrnet_w18-human_512/model.pdmodel \\\n",
        "        --params_filename /root/work/PaddleSeg/Matting/ppmatting-hrnet_w18-human_512/model.pdiparams \\\n",
        "        --opset_version 11 \\\n",
        "        --save_file ppmatting-hrnet_w18-human_512.onnx 2>&1|tee ../logs/convert_ppmatting-hrnet_w18-human_512.log"
      ],
      "metadata": {
        "colab": {
          "base_uri": "https://localhost:8080/"
        },
        "id": "IfXHasZJ5xlA",
        "outputId": "fe2fe588-d319-4e36-921f-ea0c46d32ef0"
      },
      "execution_count": 21,
      "outputs": [
        {
          "output_type": "stream",
          "name": "stdout",
          "text": [
            "[Paddle2ONNX] Start to parse PaddlePaddle model...\n",
            "[Paddle2ONNX] Model file path: /root/work/PaddleSeg/Matting/ppmatting-hrnet_w18-human_512/model.pdmodel\n",
            "[Paddle2ONNX] Paramters file path: /root/work/PaddleSeg/Matting/ppmatting-hrnet_w18-human_512/model.pdiparams\n",
            "[Paddle2ONNX] Start to parsing Paddle model...\n",
            "[ERROR][Paddle2ONNX] [pool2d: pool2d_1.tmp_0] Adaptive only support static input shape.\n",
            "[Paddle2ONNX] Due to the operator: pool2d, this model cannot be exported to ONNX.\n",
            "[ERROR][Paddle2ONNX] [pool2d: pool2d_2.tmp_0] Adaptive only support static input shape.\n",
            "[Paddle2ONNX] Due to the operator: pool2d, this model cannot be exported to ONNX.\n",
            "[ERROR] Model exporting failed, you can report this problem to https://github.com/PaddlePaddle/Paddle2ONNX.git.\n",
            "\n",
            "real\t0m0.222s\n",
            "user\t0m0.122s\n",
            "sys\t0m0.092s\n"
          ]
        }
      ]
    },
    {
      "cell_type": "code",
      "source": [
        "# !zip -r ppmatting-hrnet_w18-human_512.zip ppmatting-hrnet_w18-human_512/\n",
        "# %cd ..\n",
        "%cd /root/work/PaddleSeg/Matting"
      ],
      "metadata": {
        "colab": {
          "base_uri": "https://localhost:8080/"
        },
        "id": "o_CiHNV1J4a6",
        "outputId": "8f2ef3a2-b5ee-449f-df20-81f2dd5f7808"
      },
      "execution_count": 22,
      "outputs": [
        {
          "output_type": "stream",
          "name": "stdout",
          "text": [
            "/root/work/PaddleSeg/Matting\n"
          ]
        }
      ]
    },
    {
      "cell_type": "markdown",
      "source": [
        "## PP-Matting-1024"
      ],
      "metadata": {
        "id": "yYq-LIbYIijf"
      }
    },
    {
      "cell_type": "code",
      "source": [
        "%cd /root/work/PaddleSeg/Matting\n",
        "\n",
        "# PP-Matting-1024\n",
        "!wget https://paddleseg.bj.bcebos.com/matting/models/deploy/ppmatting-hrnet_w18-human_1024.zip"
      ],
      "metadata": {
        "colab": {
          "base_uri": "https://localhost:8080/"
        },
        "outputId": "5e2f7a45-f03e-44ae-e816-c36fa465a2ea",
        "id": "mRUPOe0dIpyn"
      },
      "execution_count": 23,
      "outputs": [
        {
          "output_type": "stream",
          "name": "stdout",
          "text": [
            "/root/work/PaddleSeg/Matting\n",
            "--2023-09-18 10:02:47--  https://paddleseg.bj.bcebos.com/matting/models/deploy/ppmatting-hrnet_w18-human_1024.zip\n",
            "Resolving paddleseg.bj.bcebos.com (paddleseg.bj.bcebos.com)... 103.235.46.61, 2409:8c04:1001:1002:0:ff:b001:368a\n",
            "Connecting to paddleseg.bj.bcebos.com (paddleseg.bj.bcebos.com)|103.235.46.61|:443... connected.\n",
            "HTTP request sent, awaiting response... 200 OK\n",
            "Length: 91184403 (87M) [application/octet-stream]\n",
            "Saving to: ‘ppmatting-hrnet_w18-human_1024.zip’\n",
            "\n",
            "ppmatting-hrnet_w18 100%[===================>]  86.96M  10.3MB/s    in 17s     \n",
            "\n",
            "2023-09-18 10:03:07 (4.97 MB/s) - ‘ppmatting-hrnet_w18-human_1024.zip’ saved [91184403/91184403]\n",
            "\n"
          ]
        }
      ]
    },
    {
      "cell_type": "code",
      "source": [
        "!unzip ppmatting-hrnet_w18-human_1024.zip\n",
        "%cd ppmatting-hrnet_w18-human_1024"
      ],
      "metadata": {
        "colab": {
          "base_uri": "https://localhost:8080/"
        },
        "outputId": "e1c7ab86-b244-49a4-93f6-74e0748c0327",
        "id": "6Fulai81Ipyp"
      },
      "execution_count": 24,
      "outputs": [
        {
          "output_type": "stream",
          "name": "stdout",
          "text": [
            "Archive:  ppmatting-hrnet_w18-human_1024.zip\n",
            "   creating: ppmatting-hrnet_w18-human_1024/\n",
            "  inflating: ppmatting-hrnet_w18-human_1024/model.pdiparams.info  \n",
            "  inflating: ppmatting-hrnet_w18-human_1024/model.pdiparams  \n",
            "  inflating: ppmatting-hrnet_w18-human_1024/model.pdmodel  \n",
            "  inflating: ppmatting-hrnet_w18-human_1024/deploy.yaml  \n",
            "/root/work/PaddleSeg/Matting/ppmatting-hrnet_w18-human_1024\n"
          ]
        }
      ]
    },
    {
      "cell_type": "code",
      "source": [
        "!time paddle2onnx \\\n",
        "        --model_dir ./ \\\n",
        "        --model_filename model.pdmodel \\\n",
        "        --params_filename model.pdiparams \\\n",
        "        --opset_version 11 \\\n",
        "        --save_file ppmatting-hrnet_w18-human_1024.onnx 2>&1|tee ../logs/convert_ppmatting-hrnet_w18-human_1024.log"
      ],
      "metadata": {
        "colab": {
          "base_uri": "https://localhost:8080/"
        },
        "outputId": "a838fea1-f4c9-4672-e931-50a3abe518b6",
        "id": "zhhcb2AmIpyq"
      },
      "execution_count": 25,
      "outputs": [
        {
          "output_type": "stream",
          "name": "stdout",
          "text": [
            "[Paddle2ONNX] Start to parse PaddlePaddle model...\n",
            "[Paddle2ONNX] Model file path: ./model.pdmodel\n",
            "[Paddle2ONNX] Paramters file path: ./model.pdiparams\n",
            "[Paddle2ONNX] Start to parsing Paddle model...\n",
            "[ERROR][Paddle2ONNX] [pool2d: pool2d_1.tmp_0] Adaptive only support static input shape.\n",
            "[Paddle2ONNX] Due to the operator: pool2d, this model cannot be exported to ONNX.\n",
            "[ERROR][Paddle2ONNX] [pool2d: pool2d_2.tmp_0] Adaptive only support static input shape.\n",
            "[Paddle2ONNX] Due to the operator: pool2d, this model cannot be exported to ONNX.\n",
            "[ERROR] Model exporting failed, you can report this problem to https://github.com/PaddlePaddle/Paddle2ONNX.git.\n",
            "\n",
            "real\t0m0.229s\n",
            "user\t0m0.125s\n",
            "sys\t0m0.097s\n"
          ]
        }
      ]
    },
    {
      "cell_type": "code",
      "source": [
        "# !zip -r ppmatting-hrnet_w18-human_1024.zip ppmatting-hrnet_w18-human_1024/\n",
        "%cd .."
      ],
      "metadata": {
        "colab": {
          "base_uri": "https://localhost:8080/"
        },
        "id": "ygovrjjbKFfq",
        "outputId": "d19c0871-6389-4a70-92dc-519263381d62"
      },
      "execution_count": 26,
      "outputs": [
        {
          "output_type": "stream",
          "name": "stdout",
          "text": [
            "/root/work/PaddleSeg/Matting\n"
          ]
        }
      ]
    },
    {
      "cell_type": "markdown",
      "source": [
        "## PP-HumanMatting\n"
      ],
      "metadata": {
        "id": "5jc4rU45r7fM"
      }
    },
    {
      "cell_type": "code",
      "source": [
        "# PP-HumanMatting\n",
        "!wget https://paddleseg.bj.bcebos.com/matting/models/deploy/pp-humanmatting-resnet34_vd.zip\n"
      ],
      "metadata": {
        "colab": {
          "base_uri": "https://localhost:8080/"
        },
        "id": "m3OIgYgXr_E1",
        "outputId": "4dca0fdc-9b5c-4472-b5f7-fa5dd1df1e16"
      },
      "execution_count": 27,
      "outputs": [
        {
          "output_type": "stream",
          "name": "stdout",
          "text": [
            "--2023-09-18 10:03:08--  https://paddleseg.bj.bcebos.com/matting/models/deploy/pp-humanmatting-resnet34_vd.zip\n",
            "Resolving paddleseg.bj.bcebos.com (paddleseg.bj.bcebos.com)... 103.235.46.61, 2409:8c04:1001:1002:0:ff:b001:368a\n",
            "Connecting to paddleseg.bj.bcebos.com (paddleseg.bj.bcebos.com)|103.235.46.61|:443... connected.\n",
            "HTTP request sent, awaiting response... 200 OK\n",
            "Length: 237095055 (226M) [application/octet-stream]\n",
            "Saving to: ‘pp-humanmatting-resnet34_vd.zip’\n",
            "\n",
            "pp-humanmatting-res 100%[===================>] 226.11M  11.7MB/s    in 38s     \n",
            "\n",
            "2023-09-18 10:03:47 (5.96 MB/s) - ‘pp-humanmatting-resnet34_vd.zip’ saved [237095055/237095055]\n",
            "\n"
          ]
        }
      ]
    },
    {
      "cell_type": "code",
      "source": [
        "!unzip pp-humanmatting-resnet34_vd.zip\n",
        "%cd pp-humanmatting-resnet34_vd"
      ],
      "metadata": {
        "colab": {
          "base_uri": "https://localhost:8080/"
        },
        "id": "VubkJziqr_6O",
        "outputId": "b33d6a21-845c-4c7a-c55c-fd494a199b72"
      },
      "execution_count": 28,
      "outputs": [
        {
          "output_type": "stream",
          "name": "stdout",
          "text": [
            "Archive:  pp-humanmatting-resnet34_vd.zip\n",
            "   creating: pp-humanmatting-resnet34_vd/\n",
            "  inflating: pp-humanmatting-resnet34_vd/model.pdiparams.info  \n",
            "  inflating: pp-humanmatting-resnet34_vd/model.pdiparams  \n",
            "  inflating: pp-humanmatting-resnet34_vd/model.pdmodel  \n",
            "  inflating: pp-humanmatting-resnet34_vd/deploy.yaml  \n",
            "/root/work/PaddleSeg/Matting/pp-humanmatting-resnet34_vd\n"
          ]
        }
      ]
    },
    {
      "cell_type": "code",
      "source": [
        "!time paddle2onnx \\\n",
        "        --model_dir ./ \\\n",
        "        --model_filename model.pdmodel \\\n",
        "        --params_filename model.pdiparams \\\n",
        "        --opset_version 11 \\\n",
        "        --save_file pp-humanmatting-resnet34_vd.onnx 2>&1|tee ../logs/convert_pp-humanmatting-resnet34_vd.log"
      ],
      "metadata": {
        "colab": {
          "base_uri": "https://localhost:8080/"
        },
        "id": "GG01kL90sHSl",
        "outputId": "dc460526-01c3-4963-8d16-06a6a3523127"
      },
      "execution_count": 29,
      "outputs": [
        {
          "output_type": "stream",
          "name": "stdout",
          "text": [
            "[Paddle2ONNX] Start to parse PaddlePaddle model...\n",
            "[Paddle2ONNX] Model file path: ./model.pdmodel\n",
            "[Paddle2ONNX] Paramters file path: ./model.pdiparams\n",
            "[Paddle2ONNX] Start to parsing Paddle model...\n",
            "[ERROR][Paddle2ONNX] [pool2d: pool2d_5.tmp_0] Adaptive only support static input shape.\n",
            "[Paddle2ONNX] Due to the operator: pool2d, this model cannot be exported to ONNX.\n",
            "[ERROR][Paddle2ONNX] [pool2d: pool2d_6.tmp_0] Adaptive only support static input shape.\n",
            "[Paddle2ONNX] Due to the operator: pool2d, this model cannot be exported to ONNX.\n",
            "[ERROR] Model exporting failed, you can report this problem to https://github.com/PaddlePaddle/Paddle2ONNX.git.\n",
            "\n",
            "real\t0m0.404s\n",
            "user\t0m0.148s\n",
            "sys\t0m0.235s\n"
          ]
        }
      ]
    },
    {
      "cell_type": "markdown",
      "source": [
        "## MODNet-MobileNetV2\n",
        "!wget https://paddleseg.bj.bcebos.com/matting/models/deploy/modnet-mobilenetv2.zip\n"
      ],
      "metadata": {
        "id": "S_kc8hEks2rA"
      }
    },
    {
      "cell_type": "code",
      "source": [
        "# MODNet-MobileNetV2\n",
        "!wget https://paddleseg.bj.bcebos.com/matting/models/deploy/modnet-mobilenetv2.zip"
      ],
      "metadata": {
        "colab": {
          "base_uri": "https://localhost:8080/"
        },
        "id": "bgTEq4Y2s2rC",
        "outputId": "abfdf2a3-fa3c-4e53-a1fe-21a8b6984235"
      },
      "execution_count": 30,
      "outputs": [
        {
          "output_type": "stream",
          "name": "stdout",
          "text": [
            "--2023-09-18 10:03:51--  https://paddleseg.bj.bcebos.com/matting/models/deploy/modnet-mobilenetv2.zip\n",
            "Resolving paddleseg.bj.bcebos.com (paddleseg.bj.bcebos.com)... 103.235.46.61, 2409:8c04:1001:1002:0:ff:b001:368a\n",
            "Connecting to paddleseg.bj.bcebos.com (paddleseg.bj.bcebos.com)|103.235.46.61|:443... connected.\n",
            "HTTP request sent, awaiting response... 200 OK\n",
            "Length: 24262258 (23M) [application/octet-stream]\n",
            "Saving to: ‘modnet-mobilenetv2.zip’\n",
            "\n",
            "modnet-mobilenetv2. 100%[===================>]  23.14M  5.99MB/s    in 19s     \n",
            "\n",
            "2023-09-18 10:04:12 (1.24 MB/s) - ‘modnet-mobilenetv2.zip’ saved [24262258/24262258]\n",
            "\n"
          ]
        }
      ]
    },
    {
      "cell_type": "code",
      "source": [
        "!unzip modnet-mobilenetv2.zip\n",
        "%cd modnet-mobilenetv2d"
      ],
      "metadata": {
        "colab": {
          "base_uri": "https://localhost:8080/"
        },
        "id": "7xqLvM6Zs2rD",
        "outputId": "86f9e2a8-9575-4802-e55c-45c9f8918043"
      },
      "execution_count": 31,
      "outputs": [
        {
          "output_type": "stream",
          "name": "stdout",
          "text": [
            "Archive:  modnet-mobilenetv2.zip\n",
            "   creating: modnet-mobilenetv2/\n",
            "  inflating: modnet-mobilenetv2/model.pdiparams.info  \n",
            "  inflating: modnet-mobilenetv2/model.pdiparams  \n",
            "  inflating: modnet-mobilenetv2/model.pdmodel  \n",
            "  inflating: modnet-mobilenetv2/deploy.yaml  \n",
            "[Errno 2] No such file or directory: 'modnet-mobilenetv2d'\n",
            "/root/work/PaddleSeg/Matting/pp-humanmatting-resnet34_vd\n"
          ]
        }
      ]
    },
    {
      "cell_type": "code",
      "source": [
        "!time paddle2onnx \\\n",
        "        --model_dir ./ \\\n",
        "        --model_filename model.pdmodel \\\n",
        "        --params_filename model.pdiparams \\\n",
        "        --opset_version 11 \\\n",
        "        --save_file modnet-mobilenetv2.onnx 2>&1|tee ../logs/convert_modnet-mobilenetv2.log"
      ],
      "metadata": {
        "colab": {
          "base_uri": "https://localhost:8080/"
        },
        "id": "J5Uqis1Rs2rE",
        "outputId": "d37d3522-5859-470a-de9d-e71d7684bbb8"
      },
      "execution_count": 32,
      "outputs": [
        {
          "output_type": "stream",
          "name": "stdout",
          "text": [
            "[Paddle2ONNX] Start to parse PaddlePaddle model...\n",
            "[Paddle2ONNX] Model file path: ./model.pdmodel\n",
            "[Paddle2ONNX] Paramters file path: ./model.pdiparams\n",
            "[Paddle2ONNX] Start to parsing Paddle model...\n",
            "[ERROR][Paddle2ONNX] [pool2d: pool2d_5.tmp_0] Adaptive only support static input shape.\n",
            "[Paddle2ONNX] Due to the operator: pool2d, this model cannot be exported to ONNX.\n",
            "[ERROR][Paddle2ONNX] [pool2d: pool2d_6.tmp_0] Adaptive only support static input shape.\n",
            "[Paddle2ONNX] Due to the operator: pool2d, this model cannot be exported to ONNX.\n",
            "[ERROR] Model exporting failed, you can report this problem to https://github.com/PaddlePaddle/Paddle2ONNX.git.\n",
            "\n",
            "real\t0m0.395s\n",
            "user\t0m0.155s\n",
            "sys\t0m0.225s\n"
          ]
        }
      ]
    }
  ]
}